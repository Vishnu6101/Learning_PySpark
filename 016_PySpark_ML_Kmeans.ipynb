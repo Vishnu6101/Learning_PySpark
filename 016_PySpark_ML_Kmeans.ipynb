{
 "cells": [
  {
   "cell_type": "markdown",
   "metadata": {},
   "source": [
    "[Global Spotify Weekly Chart](https://www.kaggle.com/datasets/kabhishm/global-spotify-weekly-chart/)\n",
    "\n",
    "[Kmeans using Pyspark](https://www.kdnuggets.com/2023/02/pyspark-data-science.html)"
   ]
  },
  {
   "cell_type": "code",
   "execution_count": 1,
   "metadata": {},
   "outputs": [
    {
     "name": "stderr",
     "output_type": "stream",
     "text": [
      "Setting default log level to \"WARN\".\n",
      "To adjust logging level use sc.setLogLevel(newLevel). For SparkR, use setLogLevel(newLevel).\n",
      "23/12/17 12:34:53 WARN NativeCodeLoader: Unable to load native-hadoop library for your platform... using builtin-java classes where applicable\n"
     ]
    },
    {
     "data": {
      "text/html": [
       "\n",
       "            <div>\n",
       "                <p><b>SparkSession - in-memory</b></p>\n",
       "                \n",
       "        <div>\n",
       "            <p><b>SparkContext</b></p>\n",
       "\n",
       "            <p><a href=\"http://vishnu:4040\">Spark UI</a></p>\n",
       "\n",
       "            <dl>\n",
       "              <dt>Version</dt>\n",
       "                <dd><code>v3.5.0</code></dd>\n",
       "              <dt>Master</dt>\n",
       "                <dd><code>local[5]</code></dd>\n",
       "              <dt>AppName</dt>\n",
       "                <dd><code>K-Means</code></dd>\n",
       "            </dl>\n",
       "        </div>\n",
       "        \n",
       "            </div>\n",
       "        "
      ],
      "text/plain": [
       "<pyspark.sql.session.SparkSession at 0x7fd8d0499f60>"
      ]
     },
     "execution_count": 1,
     "metadata": {},
     "output_type": "execute_result"
    }
   ],
   "source": [
    "from pyspark.sql import SparkSession\n",
    "\n",
    "spark = SparkSession.builder \\\n",
    "        .master(\"local[5]\") \\\n",
    "        .appName(\"K-Means\") \\\n",
    "        .getOrCreate()\n",
    "\n",
    "spark"
   ]
  },
  {
   "cell_type": "code",
   "execution_count": 5,
   "metadata": {},
   "outputs": [
    {
     "name": "stdout",
     "output_type": "stream",
     "text": [
      "root\n",
      " |-- Pos: string (nullable = true)\n",
      " |-- P+: string (nullable = true)\n",
      " |-- Artist: string (nullable = true)\n",
      " |-- Title: string (nullable = true)\n",
      " |-- Wks: string (nullable = true)\n",
      " |-- Pk: string (nullable = true)\n",
      " |-- (x?): string (nullable = true)\n",
      " |-- Streams: string (nullable = true)\n",
      " |-- Streams+: string (nullable = true)\n",
      " |-- Total: string (nullable = true)\n",
      "\n",
      "+---+---+---------------+--------------------+---+---+----+--------+----------+----------+\n",
      "|Pos| P+|         Artist|               Title|Wks| Pk|(x?)| Streams|  Streams+|     Total|\n",
      "+---+---+---------------+--------------------+---+---+----+--------+----------+----------+\n",
      "|  1|  =|   Miley Cyrus |             Flowers|  7|  1|   7|56744018|-5019054.0| 585390148|\n",
      "|  2|NEW|       KAROL G |                 TQG|  1|  2|   1|53284451|      NULL|  53284451|\n",
      "|  3|NEW|    The Weeknd |         Die For You|  1|  3|   1|46213370|      NULL|  46213370|\n",
      "|  4| -2|           SZA |           Kill Bill| 12|  1|   2|45630547| -918530.0| 556085332|\n",
      "|  5| -2|PinkPantheress |  Boy's a liar Pt. 2|  4|  3|   1|39475419|  303113.0| 123300074|\n",
      "|  6| -2|      Bizarrap |Shakira: Bzrp Mus...|  8|  2|   3|33570215|-1211086.0| 368811104|\n",
      "|  7| -1|  Metro Boomin |            Creepin'| 13|  2|   1|29727331|  497184.0| 409991076|\n",
      "|  8| -3|  Harry Styles |           As It Was| 48|  1|  11|29028467| -504076.0|1953960590|\n",
      "|  9| -1|        Yandel |          Yandel 150|  8|  8|NULL|26978839| 2005666.0| 181143781|\n",
      "| 10| -3|     Sam Smith |              Unholy| 23|  1|   7|26377166|-1140781.0| 889575567|\n",
      "| 11| -2| Manuel Turizo |          La Bachata| 35|  4|NULL|23545889|  359842.0| 869643225|\n",
      "| 12| -1|          Rema |           Calm Down| 27|  9|NULL|23128373|  925159.0| 473146853|\n",
      "| 13|+24|       KAROL G |       X SI VOLVEMOS|  4| 13|NULL|23066614| 8062485.0|  68299618|\n",
      "| 14| -2|    The Weeknd |         Die For You| 59| 12|NULL|22988828| 1333396.0| 687729855|\n",
      "| 15| -5|  David Guetta |     I'm Good (Blue)| 27|  2|   4|22625095| -269818.0| 743528980|\n",
      "| 16| -3|          RAYE |           Escapism.| 14| 10|NULL|20779383| -694464.0| 271404630|\n",
      "| 17|  =|         Ozuna |             Hey Mor| 20| 14|NULL|20380460| 1397344.0| 368505520|\n",
      "| 18| -4|  Taylor Swift |                Anti| 19|  1|   3|20034882| -890694.0| 619942698|\n",
      "| 19| -3|          d4vd |        Here With Me| 18| 14|NULL|19920918| -270896.0| 289630594|\n",
      "| 20| -5|      NewJeans |                 OMG|  9| 14|NULL|19851543| -568083.0| 162889086|\n",
      "+---+---+---------------+--------------------+---+---+----+--------+----------+----------+\n",
      "only showing top 20 rows\n",
      "\n"
     ]
    }
   ],
   "source": [
    "# Loading the data\n",
    "df = spark.read.csv(\"DataFiles/spotify_weekly_chart.csv\",\n",
    "                    header=True,\n",
    "                    sep=\",\")\n",
    "df.printSchema()\n",
    "df.show()"
   ]
  },
  {
   "cell_type": "code",
   "execution_count": 6,
   "metadata": {},
   "outputs": [],
   "source": [
    "# Updating the schema\n",
    "from pyspark.sql.types import StructField, IntegerType, StringType, DoubleType, StructType\n",
    "\n",
    "data_schema = [\n",
    "    StructField(\"Pos\", IntegerType(), True),\n",
    "    StructField(\"P+\", StringType(), True),\n",
    "    StructField(\"Artist\", StringType(), True),\n",
    "    StructField(\"Title\", StringType(), True),\n",
    "    StructField(\"Wks\", IntegerType(), True),\n",
    "    StructField(\"Pk\", IntegerType(), True),\n",
    "    StructField(\"(x?)\", IntegerType(), True),\n",
    "    StructField(\"Streams\", IntegerType(), True),\n",
    "    StructField(\"Streams+\", DoubleType(), True),\n",
    "    StructField(\"Total\", IntegerType(), True)\n",
    "]\n",
    "\n",
    "finalSchema = StructType(fields=data_schema)"
   ]
  },
  {
   "cell_type": "code",
   "execution_count": 15,
   "metadata": {},
   "outputs": [
    {
     "name": "stdout",
     "output_type": "stream",
     "text": [
      "root\n",
      " |-- Pos: integer (nullable = true)\n",
      " |-- P+: string (nullable = true)\n",
      " |-- Artist: string (nullable = true)\n",
      " |-- Title: string (nullable = true)\n",
      " |-- Wks: integer (nullable = true)\n",
      " |-- Pk: integer (nullable = true)\n",
      " |-- (x?): integer (nullable = true)\n",
      " |-- Streams: integer (nullable = true)\n",
      " |-- Streams+: double (nullable = true)\n",
      " |-- Total: integer (nullable = true)\n",
      "\n"
     ]
    }
   ],
   "source": [
    "df = spark.read.csv(\"DataFiles/spotify_weekly_chart.csv\",\n",
    "                    sep=\",\",\n",
    "                    header=True,\n",
    "                    schema=finalSchema)\n",
    "\n",
    "df.printSchema()"
   ]
  },
  {
   "cell_type": "markdown",
   "metadata": {},
   "source": [
    "## Exploring the data"
   ]
  },
  {
   "cell_type": "code",
   "execution_count": 16,
   "metadata": {},
   "outputs": [
    {
     "data": {
      "text/html": [
       "<div>\n",
       "<style scoped>\n",
       "    .dataframe tbody tr th:only-of-type {\n",
       "        vertical-align: middle;\n",
       "    }\n",
       "\n",
       "    .dataframe tbody tr th {\n",
       "        vertical-align: top;\n",
       "    }\n",
       "\n",
       "    .dataframe thead th {\n",
       "        text-align: right;\n",
       "    }\n",
       "</style>\n",
       "<table border=\"1\" class=\"dataframe\">\n",
       "  <thead>\n",
       "    <tr style=\"text-align: right;\">\n",
       "      <th></th>\n",
       "      <th>Pos</th>\n",
       "      <th>P+</th>\n",
       "      <th>Artist</th>\n",
       "      <th>Title</th>\n",
       "      <th>Wks</th>\n",
       "      <th>Pk</th>\n",
       "      <th>(x?)</th>\n",
       "      <th>Streams</th>\n",
       "      <th>Streams+</th>\n",
       "      <th>Total</th>\n",
       "    </tr>\n",
       "  </thead>\n",
       "  <tbody>\n",
       "    <tr>\n",
       "      <th>0</th>\n",
       "      <td>1</td>\n",
       "      <td>=</td>\n",
       "      <td>Miley Cyrus</td>\n",
       "      <td>Flowers</td>\n",
       "      <td>7</td>\n",
       "      <td>1</td>\n",
       "      <td>7</td>\n",
       "      <td>56744018</td>\n",
       "      <td>-5019054.0</td>\n",
       "      <td>585390148</td>\n",
       "    </tr>\n",
       "    <tr>\n",
       "      <th>1</th>\n",
       "      <td>2</td>\n",
       "      <td>NEW</td>\n",
       "      <td>KAROL G</td>\n",
       "      <td>TQG</td>\n",
       "      <td>1</td>\n",
       "      <td>2</td>\n",
       "      <td>1</td>\n",
       "      <td>53284451</td>\n",
       "      <td>NaN</td>\n",
       "      <td>53284451</td>\n",
       "    </tr>\n",
       "    <tr>\n",
       "      <th>2</th>\n",
       "      <td>3</td>\n",
       "      <td>NEW</td>\n",
       "      <td>The Weeknd</td>\n",
       "      <td>Die For You</td>\n",
       "      <td>1</td>\n",
       "      <td>3</td>\n",
       "      <td>1</td>\n",
       "      <td>46213370</td>\n",
       "      <td>NaN</td>\n",
       "      <td>46213370</td>\n",
       "    </tr>\n",
       "    <tr>\n",
       "      <th>3</th>\n",
       "      <td>4</td>\n",
       "      <td>-2</td>\n",
       "      <td>SZA</td>\n",
       "      <td>Kill Bill</td>\n",
       "      <td>12</td>\n",
       "      <td>1</td>\n",
       "      <td>2</td>\n",
       "      <td>45630547</td>\n",
       "      <td>-918530.0</td>\n",
       "      <td>556085332</td>\n",
       "    </tr>\n",
       "    <tr>\n",
       "      <th>4</th>\n",
       "      <td>5</td>\n",
       "      <td>-2</td>\n",
       "      <td>PinkPantheress</td>\n",
       "      <td>Boy's a liar Pt. 2</td>\n",
       "      <td>4</td>\n",
       "      <td>3</td>\n",
       "      <td>1</td>\n",
       "      <td>39475419</td>\n",
       "      <td>303113.0</td>\n",
       "      <td>123300074</td>\n",
       "    </tr>\n",
       "  </tbody>\n",
       "</table>\n",
       "</div>"
      ],
      "text/plain": [
       "   Pos   P+           Artist               Title  Wks  Pk  (x?)   Streams  \\\n",
       "0    1    =     Miley Cyrus              Flowers    7   1     7  56744018   \n",
       "1    2  NEW         KAROL G                  TQG    1   2     1  53284451   \n",
       "2    3  NEW      The Weeknd          Die For You    1   3     1  46213370   \n",
       "3    4   -2             SZA            Kill Bill   12   1     2  45630547   \n",
       "4    5   -2  PinkPantheress   Boy's a liar Pt. 2    4   3     1  39475419   \n",
       "\n",
       "    Streams+      Total  \n",
       "0 -5019054.0  585390148  \n",
       "1        NaN   53284451  \n",
       "2        NaN   46213370  \n",
       "3  -918530.0  556085332  \n",
       "4   303113.0  123300074  "
      ]
     },
     "execution_count": 16,
     "metadata": {},
     "output_type": "execute_result"
    }
   ],
   "source": [
    "df.limit(5).toPandas()"
   ]
  },
  {
   "cell_type": "code",
   "execution_count": 17,
   "metadata": {},
   "outputs": [
    {
     "name": "stdout",
     "output_type": "stream",
     "text": [
      "+-------+------------------+------------------+-----------+------+-----------------+----------------+-----------------+-----------------+------------------+--------------------+\n",
      "|summary|               Pos|                P+|     Artist| Title|              Wks|              Pk|             (x?)|          Streams|          Streams+|               Total|\n",
      "+-------+------------------+------------------+-----------+------+-----------------+----------------+-----------------+-----------------+------------------+--------------------+\n",
      "|  count|               200|               200|        200|   200|              200|             200|               32|              200|               184|                 192|\n",
      "|   mean|             100.5|-2.536723163841808|       NULL| 505.0|            44.32|           44.43|          4.34375|    1.234558693E7| 98076.73369565218| 3.857726347291667E8|\n",
      "| stddev|57.879184513951124|24.042577206838494|       NULL|  NULL|62.79781387226534|45.8743652483026|4.052950936086272|7487267.670902285|1387335.6770268704|4.1471066854923165E8|\n",
      "|    min|                 1|                +1|     Adele | 10:35|                1|               1|                1|          7380345|        -6062515.0|             7470526|\n",
      "|    max|               200|                RE|Ñengo Flow |lovely|              317|             195|               14|         56744018|         8062485.0|          2101461856|\n",
      "+-------+------------------+------------------+-----------+------+-----------------+----------------+-----------------+-----------------+------------------+--------------------+\n",
      "\n"
     ]
    }
   ],
   "source": [
    "df.describe().show()"
   ]
  },
  {
   "cell_type": "code",
   "execution_count": 18,
   "metadata": {},
   "outputs": [
    {
     "data": {
      "text/plain": [
       "200"
      ]
     },
     "execution_count": 18,
     "metadata": {},
     "output_type": "execute_result"
    }
   ],
   "source": [
    "df.count()"
   ]
  },
  {
   "cell_type": "code",
   "execution_count": 19,
   "metadata": {},
   "outputs": [
    {
     "name": "stdout",
     "output_type": "stream",
     "text": [
      "+----+---+---------------+------------------+---+---+----+--------+----------+---------+\n",
      "|Rank| P+|         Artist|             Title|Wks| Pk|(x?)| Streams|  Streams+|    Total|\n",
      "+----+---+---------------+------------------+---+---+----+--------+----------+---------+\n",
      "|   1|  =|   Miley Cyrus |           Flowers|  7|  1|   7|56744018|-5019054.0|585390148|\n",
      "|   2|NEW|       KAROL G |               TQG|  1|  2|   1|53284451|      NULL| 53284451|\n",
      "|   3|NEW|    The Weeknd |       Die For You|  1|  3|   1|46213370|      NULL| 46213370|\n",
      "|   4| -2|           SZA |         Kill Bill| 12|  1|   2|45630547| -918530.0|556085332|\n",
      "|   5| -2|PinkPantheress |Boy's a liar Pt. 2|  4|  3|   1|39475419|  303113.0|123300074|\n",
      "+----+---+---------------+------------------+---+---+----+--------+----------+---------+\n",
      "only showing top 5 rows\n",
      "\n"
     ]
    }
   ],
   "source": [
    "# Renaming columns\n",
    "df = df.withColumnRenamed(\"Pos\", \"Rank\")\n",
    "df.show(5)"
   ]
  },
  {
   "cell_type": "code",
   "execution_count": 20,
   "metadata": {},
   "outputs": [
    {
     "name": "stdout",
     "output_type": "stream",
     "text": [
      "+----+---------------+------------------+---+--------+---------+\n",
      "|Rank|         Artist|             Title|Wks| Streams|    Total|\n",
      "+----+---------------+------------------+---+--------+---------+\n",
      "|   1|   Miley Cyrus |           Flowers|  7|56744018|585390148|\n",
      "|   2|       KAROL G |               TQG|  1|53284451| 53284451|\n",
      "|   3|    The Weeknd |       Die For You|  1|46213370| 46213370|\n",
      "|   4|           SZA |         Kill Bill| 12|45630547|556085332|\n",
      "|   5|PinkPantheress |Boy's a liar Pt. 2|  4|39475419|123300074|\n",
      "+----+---------------+------------------+---+--------+---------+\n",
      "only showing top 5 rows\n",
      "\n"
     ]
    }
   ],
   "source": [
    "# Dropping columns\n",
    "df = df.drop(\"P+\", \"Pk\", \"(x?)\", \"Streams+\")\n",
    "df.show(5)"
   ]
  },
  {
   "cell_type": "code",
   "execution_count": 21,
   "metadata": {},
   "outputs": [
    {
     "data": {
      "text/plain": [
       "192"
      ]
     },
     "execution_count": 21,
     "metadata": {},
     "output_type": "execute_result"
    }
   ],
   "source": [
    "# dropping missing values\n",
    "df = df.na.drop()\n",
    "df.count()"
   ]
  },
  {
   "cell_type": "markdown",
   "metadata": {},
   "source": [
    "## Data Analysis"
   ]
  },
  {
   "cell_type": "code",
   "execution_count": 22,
   "metadata": {},
   "outputs": [
    {
     "name": "stdout",
     "output_type": "stream",
     "text": [
      "+---------------+---------+\n",
      "|         Artist|    Total|\n",
      "+---------------+---------+\n",
      "|   Miley Cyrus |585390148|\n",
      "|       KAROL G | 53284451|\n",
      "|    The Weeknd | 46213370|\n",
      "|           SZA |556085332|\n",
      "|PinkPantheress |123300074|\n",
      "+---------------+---------+\n",
      "only showing top 5 rows\n",
      "\n"
     ]
    }
   ],
   "source": [
    "# select\n",
    "df.select(['Artist', 'Total']).show(5)"
   ]
  },
  {
   "cell_type": "code",
   "execution_count": 24,
   "metadata": {},
   "outputs": [
    {
     "name": "stdout",
     "output_type": "stream",
     "text": [
      "+----+-------------+-------------------+---+--------+---------+\n",
      "|Rank|       Artist|              Title|Wks| Streams|    Total|\n",
      "+----+-------------+-------------------+---+--------+---------+\n",
      "|  14|  The Weeknd |        Die For You| 59|22988828|687729855|\n",
      "|  18|Taylor Swift |               Anti| 19|20034882|619942698|\n",
      "|  46| Chris Brown |Under The Influence| 32|14024690|604561746|\n",
      "|  67|  Steve Lacy |          Bad Habit| 34|12146050|616610588|\n",
      "|  92|     ROSALÍA |           DESPECHÁ| 31|10134064|604837151|\n",
      "+----+-------------+-------------------+---+--------+---------+\n",
      "only showing top 5 rows\n",
      "\n"
     ]
    }
   ],
   "source": [
    "# filtering\n",
    "from pyspark.sql.functions import col, lit\n",
    "\n",
    "df.filter(\n",
    "    (col(\"Total\") >= lit(\"600000000\")) & (col(\"Total\") <= lit(\"700000000\"))\n",
    ").show(5)"
   ]
  },
  {
   "cell_type": "code",
   "execution_count": 33,
   "metadata": {},
   "outputs": [
    {
     "name": "stdout",
     "output_type": "stream",
     "text": [
      "+---------------+---------+---+---------------------------------------+\n",
      "|         Artist|    Total|Wks|CASE WHEN (Wks >= 35) THEN 1 ELSE 0 END|\n",
      "+---------------+---------+---+---------------------------------------+\n",
      "|   Miley Cyrus |585390148|  7|                                      0|\n",
      "|       KAROL G | 53284451|  1|                                      0|\n",
      "|    The Weeknd | 46213370|  1|                                      0|\n",
      "|           SZA |556085332| 12|                                      0|\n",
      "|PinkPantheress |123300074|  4|                                      0|\n",
      "+---------------+---------+---+---------------------------------------+\n",
      "only showing top 5 rows\n",
      "\n"
     ]
    }
   ],
   "source": [
    "# creating a categorical variable\n",
    "from pyspark.sql.functions import when\n",
    "\n",
    "df.select(\"Artist\", \"Total\", \"Wks\",\n",
    "          when(col(\"Wks\") >= 35, 1).otherwise(0)\n",
    "          ).show(5)"
   ]
  },
  {
   "cell_type": "code",
   "execution_count": 35,
   "metadata": {},
   "outputs": [
    {
     "name": "stdout",
     "output_type": "stream",
     "text": [
      "+------------------+--------+--------------------+\n",
      "|            Artist|avg(Wks)|          avg(Total)|\n",
      "+------------------+--------+--------------------+\n",
      "|    Billie Eilish |   254.0|       2.098789064E9|\n",
      "|     James Arthur |   290.0|       1.983256195E9|\n",
      "|     Harry Styles |    87.0|1.5457005193333333E9|\n",
      "|The Neighbourhood |   156.0|       1.440976493E9|\n",
      "|       Elton John |    81.0|       1.388794442E9|\n",
      "+------------------+--------+--------------------+\n",
      "only showing top 5 rows\n",
      "\n"
     ]
    }
   ],
   "source": [
    "# aggregation query\n",
    "df.select(\"Artist\", \"Wks\", \"Total\") \\\n",
    "        .groupBy(\"Artist\") \\\n",
    "        .mean() \\\n",
    "        .orderBy(\"avg(Total)\", ascending=False) \\\n",
    "        .show(5)"
   ]
  },
  {
   "cell_type": "markdown",
   "metadata": {},
   "source": [
    "## Data Visualization"
   ]
  },
  {
   "cell_type": "code",
   "execution_count": 37,
   "metadata": {},
   "outputs": [
    {
     "data": {
      "text/plain": [
       "<Axes: xlabel='Artist', ylabel='Average Streams'>"
      ]
     },
     "execution_count": 37,
     "metadata": {},
     "output_type": "execute_result"
    },
    {
     "data": {
      "image/png": "[encoded data removed]",
      "text/plain": [
       "<Figure size 1000x500 with 1 Axes>"
      ]
     },
     "metadata": {},
     "output_type": "display_data"
    }
   ],
   "source": [
    "viz_df = (\n",
    "    df.select(\"Artist\", \"Wks\", \"Total\") \\\n",
    "        .groupBy(\"Artist\") \\\n",
    "        .mean() \\\n",
    "        .orderBy(\"avg(Total)\", ascending=False) \\\n",
    "        .toPandas()\n",
    ")\n",
    "\n",
    "viz_df.iloc[0:10].plot(\n",
    "    kind=\"bar\",\n",
    "    x=\"Artist\",\n",
    "    y=\"avg(Total)\",\n",
    "    figsize=(10,5),\n",
    "    ylabel=\"Average Streams\"\n",
    ")"
   ]
  },
  {
   "cell_type": "code",
   "execution_count": 39,
   "metadata": {},
   "outputs": [
    {
     "name": "stdout",
     "output_type": "stream",
     "text": [
      "125\n",
      "+------------------+--------+--------------------+\n",
      "|            Artist|avg(Wks)|          avg(Total)|\n",
      "+------------------+--------+--------------------+\n",
      "|    Billie Eilish |   254.0|       2.098789064E9|\n",
      "|     James Arthur |   290.0|       1.983256195E9|\n",
      "|     Harry Styles |    87.0|1.5457005193333333E9|\n",
      "|The Neighbourhood |   156.0|       1.440976493E9|\n",
      "|       Elton John |    81.0|       1.388794442E9|\n",
      "+------------------+--------+--------------------+\n",
      "only showing top 5 rows\n",
      "\n"
     ]
    }
   ],
   "source": [
    "# Saving the result\n",
    "final_data = (\n",
    "    df.select(\"Artist\", \"Wks\", \"Total\") \\\n",
    "        .groupBy(\"Artist\") \\\n",
    "        .mean() \\\n",
    "        .orderBy(\"avg(Total)\", ascending=False) \\\n",
    ")\n",
    "\n",
    "print(final_data.count())\n",
    "\n",
    "final_data.show(5)"
   ]
  },
  {
   "cell_type": "code",
   "execution_count": 41,
   "metadata": {},
   "outputs": [],
   "source": [
    "final_data.write.csv(\"OutputFiles/spotify_weekly_chart_final_data.csv\")\n",
    "# final_data.write.save(\"DataFiles/spotify_weekly_chart_final_data.json\", format=\"json\")"
   ]
  },
  {
   "cell_type": "markdown",
   "metadata": {},
   "source": [
    "## Data Preprocessing\n",
    "\n",
    "1. Categorical Encoding - StringIndexer()\n",
    "2. Assembling features - VectorAssembler()\n",
    "3. Scaling - StandardScaler()"
   ]
  },
  {
   "cell_type": "code",
   "execution_count": 42,
   "metadata": {},
   "outputs": [
    {
     "name": "stderr",
     "output_type": "stream",
     "text": [
      "                                                                                \r"
     ]
    },
    {
     "name": "stdout",
     "output_type": "stream",
     "text": [
      "+------------------+--------+--------------------+--------------+\n",
      "|            Artist|avg(Wks)|          avg(Total)|Encoded_Artist|\n",
      "+------------------+--------+--------------------+--------------+\n",
      "|    Billie Eilish |   254.0|       2.098789064E9|           8.0|\n",
      "|     James Arthur |   290.0|       1.983256195E9|          42.0|\n",
      "|     Harry Styles |    87.0|1.5457005193333333E9|          34.0|\n",
      "|The Neighbourhood |   156.0|       1.440976493E9|         108.0|\n",
      "|       Elton John |    81.0|       1.388794442E9|          26.0|\n",
      "+------------------+--------+--------------------+--------------+\n",
      "only showing top 5 rows\n",
      "\n"
     ]
    }
   ],
   "source": [
    "# Categorical Encoding\n",
    "from pyspark.ml.feature import StringIndexer\n",
    "\n",
    "indexer = StringIndexer(inputCol=\"Artist\", outputCol=\"Encoded_Artist\") \\\n",
    "            .fit(final_data)\n",
    "\n",
    "encoded_df = indexer.transform(final_data)\n",
    "encoded_df.show(5)"
   ]
  },
  {
   "cell_type": "code",
   "execution_count": 43,
   "metadata": {},
   "outputs": [
    {
     "name": "stdout",
     "output_type": "stream",
     "text": [
      "+------------------+--------+--------------------+--------------+--------------------+\n",
      "|            Artist|avg(Wks)|          avg(Total)|Encoded_Artist|Independent features|\n",
      "+------------------+--------+--------------------+--------------+--------------------+\n",
      "|    Billie Eilish |   254.0|       2.098789064E9|           8.0|[8.0,254.0,2.0987...|\n",
      "|     James Arthur |   290.0|       1.983256195E9|          42.0|[42.0,290.0,1.983...|\n",
      "|     Harry Styles |    87.0|1.5457005193333333E9|          34.0|[34.0,87.0,1.5457...|\n",
      "|The Neighbourhood |   156.0|       1.440976493E9|         108.0|[108.0,156.0,1.44...|\n",
      "|       Elton John |    81.0|       1.388794442E9|          26.0|[26.0,81.0,1.3887...|\n",
      "+------------------+--------+--------------------+--------------+--------------------+\n",
      "only showing top 5 rows\n",
      "\n"
     ]
    }
   ],
   "source": [
    "# Assembling Vectors\n",
    "from pyspark.ml.feature import VectorAssembler\n",
    "\n",
    "assemble = VectorAssembler(\n",
    "    inputCols=[\"Encoded_Artist\", \"avg(Wks)\", \"avg(Total)\"],\n",
    "    outputCol=\"Independent features\")\n",
    "\n",
    "assembled_data = assemble.transform(encoded_df)\n",
    "assembled_data.show(5)"
   ]
  },
  {
   "cell_type": "code",
   "execution_count": 44,
   "metadata": {},
   "outputs": [
    {
     "name": "stdout",
     "output_type": "stream",
     "text": [
      "+------------------+--------+--------------------+--------------+--------------------+--------------------+\n",
      "|            Artist|avg(Wks)|          avg(Total)|Encoded_Artist|Independent features|     Scaled Features|\n",
      "+------------------+--------+--------------------+--------------+--------------------+--------------------+\n",
      "|    Billie Eilish |   254.0|       2.098789064E9|           8.0|[8.0,254.0,2.0987...|[0.22082097898955...|\n",
      "|     James Arthur |   290.0|       1.983256195E9|          42.0|[42.0,290.0,1.983...|[1.15931013969515...|\n",
      "|     Harry Styles |    87.0|1.5457005193333333E9|          34.0|[34.0,87.0,1.5457...|[0.93848916070560...|\n",
      "|The Neighbourhood |   156.0|       1.440976493E9|         108.0|[108.0,156.0,1.44...|[2.98108321635897...|\n",
      "|       Elton John |    81.0|       1.388794442E9|          26.0|[26.0,81.0,1.3887...|[0.71766818171604...|\n",
      "+------------------+--------+--------------------+--------------+--------------------+--------------------+\n",
      "only showing top 5 rows\n",
      "\n"
     ]
    }
   ],
   "source": [
    "# Scaling\n",
    "from pyspark.ml.feature import StandardScaler\n",
    "\n",
    "scale = StandardScaler(inputCol=\"Independent features\", outputCol=\"Scaled Features\")\n",
    "scaled_data = scale.fit(assembled_data)\n",
    "scaled_data_output = scaled_data.transform(assembled_data)\n",
    "scaled_data_output.show(5)"
   ]
  },
  {
   "cell_type": "markdown",
   "metadata": {},
   "source": [
    "## K Means Clustering"
   ]
  },
  {
   "cell_type": "code",
   "execution_count": 45,
   "metadata": {},
   "outputs": [
    {
     "name": "stderr",
     "output_type": "stream",
     "text": [
      "23/12/17 13:27:42 WARN InstanceBuilder: Failed to load implementation from:dev.ludovic.netlib.blas.JNIBLAS\n"
     ]
    },
    {
     "name": "stdout",
     "output_type": "stream",
     "text": [
      "+------------------+--------+--------------------+--------------+--------------------+--------------------+----------+\n",
      "|            Artist|avg(Wks)|          avg(Total)|Encoded_Artist|Independent features|     Scaled Features|prediction|\n",
      "+------------------+--------+--------------------+--------------+--------------------+--------------------+----------+\n",
      "|    Billie Eilish |   254.0|       2.098789064E9|           8.0|[8.0,254.0,2.0987...|[0.22082097898955...|         3|\n",
      "|     James Arthur |   290.0|       1.983256195E9|          42.0|[42.0,290.0,1.983...|[1.15931013969515...|         3|\n",
      "|     Harry Styles |    87.0|1.5457005193333333E9|          34.0|[34.0,87.0,1.5457...|[0.93848916070560...|         1|\n",
      "|The Neighbourhood |   156.0|       1.440976493E9|         108.0|[108.0,156.0,1.44...|[2.98108321635897...|         3|\n",
      "|       Elton John |    81.0|       1.388794442E9|          26.0|[26.0,81.0,1.3887...|[0.71766818171604...|         1|\n",
      "+------------------+--------+--------------------+--------------+--------------------+--------------------+----------+\n",
      "only showing top 5 rows\n",
      "\n"
     ]
    }
   ],
   "source": [
    "from pyspark.ml.clustering import KMeans\n",
    "\n",
    "KMeans_model = KMeans(featuresCol=\"Scaled Features\", k=4)\n",
    "KMeans_fit = KMeans_model.fit(scaled_data_output)\n",
    "KMeans_pred = KMeans_fit.transform(scaled_data_output)\n",
    "\n",
    "KMeans_pred.show(5)"
   ]
  },
  {
   "cell_type": "markdown",
   "metadata": {},
   "source": [
    "## Visualizing Predictions"
   ]
  },
  {
   "cell_type": "code",
   "execution_count": 55,
   "metadata": {},
   "outputs": [
    {
     "data": {
      "text/html": [
       "<div>\n",
       "<style scoped>\n",
       "    .dataframe tbody tr th:only-of-type {\n",
       "        vertical-align: middle;\n",
       "    }\n",
       "\n",
       "    .dataframe tbody tr th {\n",
       "        vertical-align: top;\n",
       "    }\n",
       "\n",
       "    .dataframe thead th {\n",
       "        text-align: right;\n",
       "    }\n",
       "</style>\n",
       "<table border=\"1\" class=\"dataframe\">\n",
       "  <thead>\n",
       "    <tr style=\"text-align: right;\">\n",
       "      <th></th>\n",
       "      <th>prediction</th>\n",
       "      <th>avg(Total)</th>\n",
       "      <th>avg(Wks)</th>\n",
       "    </tr>\n",
       "  </thead>\n",
       "  <tbody>\n",
       "    <tr>\n",
       "      <th>0</th>\n",
       "      <td>0</td>\n",
       "      <td>2.461631e+08</td>\n",
       "      <td>20.085849</td>\n",
       "    </tr>\n",
       "    <tr>\n",
       "      <th>1</th>\n",
       "      <td>1</td>\n",
       "      <td>8.261434e+08</td>\n",
       "      <td>75.276812</td>\n",
       "    </tr>\n",
       "    <tr>\n",
       "      <th>2</th>\n",
       "      <td>2</td>\n",
       "      <td>1.496832e+08</td>\n",
       "      <td>14.714815</td>\n",
       "    </tr>\n",
       "    <tr>\n",
       "      <th>3</th>\n",
       "      <td>3</td>\n",
       "      <td>1.631691e+09</td>\n",
       "      <td>234.500000</td>\n",
       "    </tr>\n",
       "  </tbody>\n",
       "</table>\n",
       "</div>"
      ],
      "text/plain": [
       "   prediction    avg(Total)    avg(Wks)\n",
       "0           0  2.461631e+08   20.085849\n",
       "1           1  8.261434e+08   75.276812\n",
       "2           2  1.496832e+08   14.714815\n",
       "3           3  1.631691e+09  234.500000"
      ]
     },
     "execution_count": 55,
     "metadata": {},
     "output_type": "execute_result"
    }
   ],
   "source": [
    "import matplotlib.pyplot as plt\n",
    "import seaborn as sns\n",
    "\n",
    "viz_df2 = KMeans_pred.select(\n",
    "    \"avg(Total)\", \"avg(Wks)\", \"prediction\"\n",
    ").toPandas()\n",
    "\n",
    "avg_df = viz_df2.groupby([\"prediction\"], as_index=False).mean()\n",
    "avg_df"
   ]
  },
  {
   "cell_type": "code",
   "execution_count": 56,
   "metadata": {},
   "outputs": [
    {
     "data": {
      "image/png": "[encoded data removed]",
      "text/plain": [
       "<Figure size 640x480 with 1 Axes>"
      ]
     },
     "metadata": {},
     "output_type": "display_data"
    },
    {
     "data": {
      "image/png": "[encoded data removed]",
      "text/plain": [
       "<Figure size 640x480 with 1 Axes>"
      ]
     },
     "metadata": {},
     "output_type": "display_data"
    }
   ],
   "source": [
    "list1 = [\"avg(Wks)\", \"avg(Total)\"]\n",
    "\n",
    "for i in list1:\n",
    "    sns.barplot(x=\"prediction\", y=str(i), data=avg_df)\n",
    "    plt.show()"
   ]
  },
  {
   "cell_type": "code",
   "execution_count": null,
   "metadata": {},
   "outputs": [],
   "source": []
  }
 ],
 "metadata": {
  "kernelspec": {
   "display_name": "pySpark",
   "language": "python",
   "name": "python3"
  },
  "language_info": {
   "codemirror_mode": {
    "name": "ipython",
    "version": 3
   },
   "file_extension": ".py",
   "mimetype": "text/x-python",
   "name": "python",
   "nbconvert_exporter": "python",
   "pygments_lexer": "ipython3",
   "version": "3.10.13"
  }
 },
 "nbformat": 4,
 "nbformat_minor": 2
}
