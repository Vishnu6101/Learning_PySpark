{
 "cells": [
  {
   "cell_type": "markdown",
   "metadata": {},
   "source": [
    "[RDD Actions](https://sparkbyexamples.com/pyspark/pyspark-rdd-actions/)"
   ]
  },
  {
   "cell_type": "code",
   "execution_count": 1,
   "metadata": {},
   "outputs": [
    {
     "name": "stderr",
     "output_type": "stream",
     "text": [
      "Setting default log level to \"WARN\".\n",
      "To adjust logging level use sc.setLogLevel(newLevel). For SparkR, use setLogLevel(newLevel).\n",
      "23/11/17 09:11:55 WARN NativeCodeLoader: Unable to load native-hadoop library for your platform... using builtin-java classes where applicable\n"
     ]
    },
    {
     "data": {
      "text/html": [
       "\n",
       "            <div>\n",
       "                <p><b>SparkSession - in-memory</b></p>\n",
       "                \n",
       "        <div>\n",
       "            <p><b>SparkContext</b></p>\n",
       "\n",
       "            <p><a href=\"http://vishnu:4040\">Spark UI</a></p>\n",
       "\n",
       "            <dl>\n",
       "              <dt>Version</dt>\n",
       "                <dd><code>v3.5.0</code></dd>\n",
       "              <dt>Master</dt>\n",
       "                <dd><code>local[3]</code></dd>\n",
       "              <dt>AppName</dt>\n",
       "                <dd><code>RDD_Actions</code></dd>\n",
       "            </dl>\n",
       "        </div>\n",
       "        \n",
       "            </div>\n",
       "        "
      ],
      "text/plain": [
       "<pyspark.sql.session.SparkSession at 0x7f0ca4255a20>"
      ]
     },
     "execution_count": 1,
     "metadata": {},
     "output_type": "execute_result"
    }
   ],
   "source": [
    "from pyspark.sql import SparkSession\n",
    "\n",
    "spark = SparkSession.builder \\\n",
    "        .master(\"local[3]\") \\\n",
    "        .appName(\"RDD_Actions\") \\\n",
    "        .getOrCreate()\n",
    "\n",
    "spark"
   ]
  },
  {
   "cell_type": "code",
   "execution_count": 2,
   "metadata": {},
   "outputs": [],
   "source": [
    "# Creating RDD\n",
    "data=[(\"Z\", 1),(\"A\", 20),(\"B\", 30),(\"C\", 40),(\"B\", 30),(\"B\", 60)]\n",
    "\n",
    "rdd1 = spark.sparkContext.parallelize(data)\n",
    "\n",
    "rdd2 = spark.sparkContext.parallelize([1,2,3,4,5,3,2])"
   ]
  },
  {
   "cell_type": "code",
   "execution_count": 3,
   "metadata": {},
   "outputs": [
    {
     "name": "stderr",
     "output_type": "stream",
     "text": [
      "[Stage 0:>                                                          (0 + 3) / 3]\r"
     ]
    },
    {
     "name": "stdout",
     "output_type": "stream",
     "text": [
      "[('Z', 1), ('A', 20), ('B', 30), ('C', 40), ('B', 30), ('B', 60)]\n"
     ]
    },
    {
     "name": "stderr",
     "output_type": "stream",
     "text": [
      "                                                                                \r"
     ]
    }
   ],
   "source": [
    "# Collect - returns complete dataset as array\n",
    "rdd1_data = rdd1.collect()\n",
    "print(rdd1_data)"
   ]
  },
  {
   "cell_type": "code",
   "execution_count": 4,
   "metadata": {},
   "outputs": [
    {
     "name": "stderr",
     "output_type": "stream",
     "text": [
      "[Stage 1:>                                                          (0 + 3) / 3]\r"
     ]
    },
    {
     "name": "stdout",
     "output_type": "stream",
     "text": [
      "7\n"
     ]
    },
    {
     "name": "stderr",
     "output_type": "stream",
     "text": [
      "                                                                                \r"
     ]
    }
   ],
   "source": [
    "# count - return the count of elements in the dataset\n",
    "rdd2_count = rdd2.count()\n",
    "print(rdd2_count)"
   ]
  },
  {
   "cell_type": "code",
   "execution_count": 11,
   "metadata": {},
   "outputs": [
    {
     "name": "stdout",
     "output_type": "stream",
     "text": [
      "7\n"
     ]
    }
   ],
   "source": [
    "# countApprox() - returns the approximate number of elements\n",
    "rdd2_count = rdd2.countApprox(timeout=1000)\n",
    "print(rdd2_count)"
   ]
  },
  {
   "cell_type": "code",
   "execution_count": 12,
   "metadata": {},
   "outputs": [
    {
     "name": "stdout",
     "output_type": "stream",
     "text": [
      "5\n"
     ]
    }
   ],
   "source": [
    "# countApproxDstinct() - returns approximate number of distinct elements\n",
    "rdd2_distinct = rdd2.countApproxDistinct()\n",
    "print(rdd2_distinct)"
   ]
  },
  {
   "cell_type": "code",
   "execution_count": 15,
   "metadata": {},
   "outputs": [
    {
     "name": "stdout",
     "output_type": "stream",
     "text": [
      "defaultdict(<class 'int'>, {1: 1, 2: 2, 3: 2, 4: 1, 5: 1})\n",
      "defaultdict(<class 'int'>, {('Z', 1): 1, ('A', 20): 1, ('B', 30): 2, ('C', 40): 1, ('B', 60): 1})\n"
     ]
    }
   ],
   "source": [
    "# countByValue() - [key, value]\n",
    "rdd2_cntByVal = rdd2.countByValue()\n",
    "print(rdd2_cntByVal)\n",
    "\n",
    "rdd1_cntByVal = rdd1.countByValue()\n",
    "print(rdd1_cntByVal)"
   ]
  },
  {
   "cell_type": "code",
   "execution_count": 16,
   "metadata": {},
   "outputs": [
    {
     "name": "stdout",
     "output_type": "stream",
     "text": [
      "('Z', 1)\n",
      "1\n"
     ]
    }
   ],
   "source": [
    "# first - returns the first element from the dataset\n",
    "print(rdd1.first())\n",
    "print(rdd2.first())"
   ]
  },
  {
   "cell_type": "code",
   "execution_count": 17,
   "metadata": {},
   "outputs": [
    {
     "name": "stdout",
     "output_type": "stream",
     "text": [
      "[('Z', 1), ('C', 40)]\n",
      "[5, 4, 3]\n"
     ]
    }
   ],
   "source": [
    "# top(n) - returns the top (largest) n elements from the dataset\n",
    "print(rdd1.top(2))\n",
    "print(rdd2.top(3))"
   ]
  },
  {
   "cell_type": "code",
   "execution_count": 18,
   "metadata": {},
   "outputs": [
    {
     "name": "stdout",
     "output_type": "stream",
     "text": [
      "('A', 20)\n",
      "1\n"
     ]
    }
   ],
   "source": [
    "# min() - returns the min element from the dataset\n",
    "print(rdd1.min())\n",
    "print(rdd2.min())"
   ]
  },
  {
   "cell_type": "code",
   "execution_count": 19,
   "metadata": {},
   "outputs": [
    {
     "name": "stdout",
     "output_type": "stream",
     "text": [
      "('Z', 1)\n",
      "5\n"
     ]
    }
   ],
   "source": [
    "# max() - returns the max element fromt the dataset\n",
    "print(rdd1.max())\n",
    "print(rdd2.max())"
   ]
  },
  {
   "cell_type": "code",
   "execution_count": 20,
   "metadata": {},
   "outputs": [
    {
     "name": "stdout",
     "output_type": "stream",
     "text": [
      "[('Z', 1), ('A', 20)]\n",
      "[1, 2]\n"
     ]
    }
   ],
   "source": [
    "# take(n) - returns the first n elements from the dataset\n",
    "print(rdd1.take(2))\n",
    "print(rdd2.take(2))"
   ]
  },
  {
   "cell_type": "code",
   "execution_count": 21,
   "metadata": {},
   "outputs": [
    {
     "name": "stdout",
     "output_type": "stream",
     "text": [
      "[('A', 20), ('B', 30)]\n",
      "[1, 2, 2]\n"
     ]
    }
   ],
   "source": [
    "# takeOrdered(n) - returns the first n elements (smallest) from the dataset\n",
    "print(rdd1.takeOrdered(2))\n",
    "print(rdd2.takeOrdered(3))"
   ]
  },
  {
   "cell_type": "code",
   "execution_count": 23,
   "metadata": {},
   "outputs": [
    {
     "name": "stdout",
     "output_type": "stream",
     "text": [
      "[('B', 30), ('Z', 1), ('C', 40)]\n",
      "[1, 3, 3]\n"
     ]
    }
   ],
   "source": [
    "# takeSample() - returns the subset of an array\n",
    "print(rdd1.takeSample(withReplacement=True, num=3))\n",
    "print(rdd2.takeSample(withReplacement=False, num=3))"
   ]
  },
  {
   "cell_type": "code",
   "execution_count": 24,
   "metadata": {},
   "outputs": [
    {
     "name": "stdout",
     "output_type": "stream",
     "text": [
      "20\n"
     ]
    }
   ],
   "source": [
    "# reduce() - reduces the element of the dataset using an operator\n",
    "from operator import add\n",
    "reduced_rdd2 = rdd2.reduce(add) # or use lambda function to add\n",
    "print(reduced_rdd2)"
   ]
  },
  {
   "cell_type": "code",
   "execution_count": 25,
   "metadata": {},
   "outputs": [
    {
     "name": "stdout",
     "output_type": "stream",
     "text": [
      "20\n"
     ]
    }
   ],
   "source": [
    "# treeReduce() - reduces the elements of RDD in multi-level tree pattern\n",
    "reduced_rdd2 = rdd2.treeReduce(lambda x, y : x + y)\n",
    "print(reduced_rdd2)"
   ]
  },
  {
   "cell_type": "code",
   "execution_count": 27,
   "metadata": {},
   "outputs": [
    {
     "name": "stdout",
     "output_type": "stream",
     "text": [
      "20\n"
     ]
    }
   ],
   "source": [
    "# fold() - aggregates the result for each partition \n",
    "# (additionally add the zeroValue) and results for all partitions\n",
    "fold_rdd2 = rdd2.fold(0, lambda x, y : x + y)\n",
    "print(fold_rdd2)"
   ]
  },
  {
   "cell_type": "code",
   "execution_count": 29,
   "metadata": {},
   "outputs": [
    {
     "name": "stdout",
     "output_type": "stream",
     "text": [
      "Number of partitions :  3\n",
      "[[1, 2], [3, 4], [5, 3, 2]]\n",
      "24\n"
     ]
    }
   ],
   "source": [
    "# fold()\n",
    "print(\"Number of partitions : \", rdd2.getNumPartitions())\n",
    "\n",
    "print(rdd2.glom().collect())\n",
    "\n",
    "fold_rdd2 = rdd2.fold(1, lambda x, y : x + y)\n",
    "print(fold_rdd2)\n",
    "\n",
    "# Number of partitions :  3\n",
    "# [[1, 2], [3, 4], [5, 3, 2]] -- [1 + {1 + [1 + 2]} + {1 + [3 + 4]} + {1 + [5 + 3 + 2]}]\n",
    "#                                [1 + 4 + 8 + 11] => [24]\n",
    "# 24"
   ]
  },
  {
   "cell_type": "code",
   "execution_count": null,
   "metadata": {},
   "outputs": [
    {
     "name": "stdout",
     "output_type": "stream",
     "text": [
      "(((1, ((1, 1), 2)), ((1, 3), 4)), (((1, 5), 3), 2))\n",
      "24\n"
     ]
    }
   ],
   "source": [
    "# fold()\n",
    "print(rdd2.fold(1, lambda x, y : (x, y)))\n",
    "print(rdd2.fold(1, lambda x, y : (x + y)))"
   ]
  },
  {
   "cell_type": "code",
   "execution_count": 32,
   "metadata": {},
   "outputs": [
    {
     "name": "stdout",
     "output_type": "stream",
     "text": [
      "352\n"
     ]
    }
   ],
   "source": [
    "# Aggregate() - like fold it allows aggregation on all partitions and \n",
    "# another aggregation over the result of partitions\n",
    "\n",
    "seqOp = (lambda a, b : a + b)\n",
    "combOp = (lambda a, b : a * b)\n",
    "agg = rdd2.aggregate(1, seqOp, combOp)\n",
    "print(agg)\n",
    "\n",
    "# Number of partitions :  3\n",
    "#                                seqOp - first aggregation over partitions\n",
    "# [[1, 2], [3, 4], [5, 3, 2]] -- [1 + {1 + [1 + 2]} + {1 + [3 + 4]} + {1 + [5 + 3 + 2]}]\n",
    "#                                combOp - second aggregation over result of partitions\n",
    "#                                [1 * 4 * 8 * 11] => [352]\n",
    "# 352"
   ]
  },
  {
   "cell_type": "code",
   "execution_count": 40,
   "metadata": {},
   "outputs": [
    {
     "name": "stdout",
     "output_type": "stream",
     "text": [
      "(20, 7)\n"
     ]
    }
   ],
   "source": [
    "seqOp2 = (lambda x, y: (x[0] + y, x[1] + 1))\n",
    "combOp2 = (lambda x, y: (x[0] + y[0], x[1] + y[1]))\n",
    "agg2 = rdd2.aggregate((0, 0), seqOp2, combOp2)\n",
    "print(agg2)"
   ]
  },
  {
   "cell_type": "code",
   "execution_count": 101,
   "metadata": {},
   "outputs": [],
   "source": [
    "# treeAggregate()"
   ]
  },
  {
   "cell_type": "code",
   "execution_count": 102,
   "metadata": {},
   "outputs": [],
   "source": [
    "spark.stop()"
   ]
  },
  {
   "cell_type": "code",
   "execution_count": null,
   "metadata": {},
   "outputs": [],
   "source": []
  }
 ],
 "metadata": {
  "kernelspec": {
   "display_name": "pySpark",
   "language": "python",
   "name": "python3"
  },
  "language_info": {
   "codemirror_mode": {
    "name": "ipython",
    "version": 3
   },
   "file_extension": ".py",
   "mimetype": "text/x-python",
   "name": "python",
   "nbconvert_exporter": "python",
   "pygments_lexer": "ipython3",
   "version": "3.10.13"
  }
 },
 "nbformat": 4,
 "nbformat_minor": 2
}
